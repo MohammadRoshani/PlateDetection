{
  "nbformat": 4,
  "nbformat_minor": 2,
  "metadata": {
    "colab": {
      "name": "Untitled7.ipynb",
      "provenance": [],
      "collapsed_sections": []
    },
    "kernelspec": {
      "name": "python3",
      "display_name": "Python 3"
    },
    "language_info": {
      "name": "python"
    }
  },
  "cells": [
    {
      "cell_type": "code",
      "execution_count": null,
      "source": [
        "!pip install -r requirements.txt"
      ],
      "outputs": [],
      "metadata": {
        "colab": {
          "base_uri": "https://localhost:8080/"
        },
        "id": "YwngYZJJFO1z",
        "outputId": "2c255591-6c2a-4d72-ec45-daa22fab9928"
      }
    },
    {
      "cell_type": "code",
      "execution_count": null,
      "source": [
        "import easyocr\r\n",
        "import cv2\r\n",
        "from PIL import Image\r\n",
        "import imutils\r\n",
        "import matplotlib.pyplot as plt\r\n",
        "import numpy as np\r\n",
        "from mpl_toolkits.axes_grid1 import ImageGrid"
      ],
      "outputs": [],
      "metadata": {
        "id": "VR8qq5cAFE3p"
      }
    },
    {
      "cell_type": "markdown",
      "source": [
        "## Detect plate with YOLO"
      ],
      "metadata": {
        "id": "UxEWm9UyKUnS"
      }
    },
    {
      "cell_type": "markdown",
      "source": [
        "### Initialize the parameters"
      ],
      "metadata": {
        "id": "-YCEPxZMKWEo"
      }
    },
    {
      "cell_type": "code",
      "execution_count": null,
      "source": [
        "confThreshold = 0.5  # Confidence threshold\r\n",
        "nmsThreshold = 0.4  # Non-maximum suppression threshold\r\n",
        "\r\n",
        "inpWidth = 416  # 608     # Width of network's input image\r\n",
        "inpHeight = 416  # 608     # Height of network's input image"
      ],
      "outputs": [],
      "metadata": {
        "id": "4ue-tRLDKbpn"
      }
    },
    {
      "cell_type": "markdown",
      "source": [
        "### Load names of classes"
      ],
      "metadata": {
        "id": "DCdsRKw5KeVX"
      }
    },
    {
      "cell_type": "code",
      "execution_count": null,
      "source": [
        "classesFile = \"classes.names\"\r\n",
        "classes = None\r\n",
        "with open(classesFile, 'rt') as f:\r\n",
        "    classes = f.read().rstrip('\\n').split('\\n')"
      ],
      "outputs": [],
      "metadata": {
        "id": "PrE_QaTZKgem"
      }
    },
    {
      "cell_type": "markdown",
      "source": [
        "### Give the configuration and weight files for the model and load the network using them."
      ],
      "metadata": {
        "id": "X1PX3iA5Kphi"
      }
    },
    {
      "cell_type": "code",
      "execution_count": null,
      "source": [
        "modelConfiguration = \"/content/cloned-repo/cloned-repo/darknet-yolov3.cfg\"\r\n",
        "modelWeights = \"/content/cloned-repo/model.weights?dl=0\"\r\n",
        "\r\n",
        "net = cv2.dnn.readNetFromDarknet(modelConfiguration,  modelWeights)\r\n",
        "net.setPreferableBackend(cv2.dnn.DNN_BACKEND_OPENCV)\r\n",
        "net.setPreferableTarget(cv2.dnn.DNN_TARGET_CPU)"
      ],
      "outputs": [],
      "metadata": {
        "id": "SR8a5a4IKcd3"
      }
    },
    {
      "cell_type": "code",
      "execution_count": null,
      "source": [
        "def getOutputsNames(net):\r\n",
        "    # Get the names of all the layers in the network\r\n",
        "    layersNames = net.getLayerNames()\r\n",
        "    # Get the names of the output layers, i.e. the layers with unconnected outputs\r\n",
        "    return [layersNames[i[0] - 1] for i in net.getUnconnectedOutLayers()]"
      ],
      "outputs": [],
      "metadata": {
        "id": "v-dTBm-OKtke"
      }
    },
    {
      "cell_type": "code",
      "execution_count": null,
      "source": [
        "### Draw the predicted bounding box"
      ],
      "outputs": [],
      "metadata": {
        "id": "U0iHtNcWKvav"
      }
    },
    {
      "cell_type": "code",
      "execution_count": null,
      "source": [
        "def drawPred(img, classId, conf, left, top, right, bottom):\r\n",
        "    # Draw a bounding box.\r\n",
        "    #    cv.rectangle(img, (left, top), (right, bottom), (255, 178, 50), 3)\r\n",
        "    cv2.rectangle(img, (left, top), (right, bottom), (0, 255, 0), 3)\r\n",
        "\r\n",
        "    label = '%.2f' % conf\r\n",
        "\r\n",
        "    # Get the label for the class name and its confidence\r\n",
        "    if classes:\r\n",
        "        assert(classId < len(classes))\r\n",
        "        label = '%s: %s' % (classes[classId], label)\r\n",
        "\r\n",
        "    # Display the label at the top of the bounding box\r\n",
        "    labelSize, baseLine = cv2.getTextSize(\r\n",
        "        label, cv2.FONT_HERSHEY_SIMPLEX, 0.5, 1)\r\n",
        "    top = max(top, labelSize[1])\r\n",
        "    cv2.rectangle(img, (left, top - round(1.5*labelSize[1])), (left + round(\r\n",
        "        1.5*labelSize[0]), top + baseLine), (255, 0, 255), cv2.FILLED)\r\n",
        "    #cv.rectangle(img, (left, top - round(1.5*labelSize[1])), (left + round(1.5*labelSize[0]), top + baseLine),    (255, 255, 255), cv.FILLED)\r\n",
        "    cv2.putText(img, label, (left, top),\r\n",
        "               cv2.FONT_HERSHEY_SIMPLEX, 0.70, (255, 255, 255), 2)"
      ],
      "outputs": [],
      "metadata": {
        "id": "zd_3XFUHK1nf"
      }
    },
    {
      "cell_type": "markdown",
      "source": [
        "### Remove the bounding boxes with low confidence using non-maxima suppression"
      ],
      "metadata": {
        "id": "F_No2SMpK4Uo"
      }
    },
    {
      "cell_type": "code",
      "execution_count": null,
      "source": [
        "def postprocess(img, outs):\r\n",
        "    imgHeight = img.shape[0]\r\n",
        "    imgWidth = img.shape[1]\r\n",
        "\r\n",
        "    classIds = []\r\n",
        "    confidences = []\r\n",
        "    boxes = []\r\n",
        "    # Scan through all the bounding boxes output from the network and keep only the\r\n",
        "    # ones with high confidence scores. Assign the box's class label as the class with the highest score.\r\n",
        "    classIds = []\r\n",
        "    confidences = []\r\n",
        "    boxes = []\r\n",
        "    for out in outs:\r\n",
        "        for detection in out:\r\n",
        "            # if detection[4]>0.001:\r\n",
        "            scores = detection[5:]\r\n",
        "            classId = np.argmax(scores)\r\n",
        "            # if scores[classId]>confThreshold:\r\n",
        "            confidence = scores[classId]\r\n",
        "            if detection[4] > confThreshold:\r\n",
        "                print(detection[4], \" - \", scores[classId],\r\n",
        "                      \" - th : \", confThreshold)\r\n",
        "                print(detection)\r\n",
        "            if confidence > confThreshold:\r\n",
        "                center_x = int(detection[0] * imgWidth)\r\n",
        "                center_y = int(detection[1] * imgHeight)\r\n",
        "                width = int(detection[2] * imgWidth)\r\n",
        "                height = int(detection[3] * imgHeight)\r\n",
        "                left = int(center_x - width / 2)\r\n",
        "                top = int(center_y - height / 2)\r\n",
        "                classIds.append(classId)\r\n",
        "                confidences.append(float(confidence))\r\n",
        "                boxes.append([left, top, width, height])\r\n",
        "\r\n",
        "    # Perform non maximum suppression to eliminate redundant overlapping boxes with\r\n",
        "    # lower confidences.\r\n",
        "    indices = cv2.dnn.NMSBoxes(boxes, confidences, confThreshold, nmsThreshold)\r\n",
        "    plates = []\r\n",
        "    for i in indices:\r\n",
        "        i = i[0]\r\n",
        "        box = boxes[i]\r\n",
        "        left = box[0]\r\n",
        "        top = box[1]\r\n",
        "        width = box[2]\r\n",
        "        height = box[3]\r\n",
        "        plate = np.array(img[top:top+height, left:left+width])\r\n",
        "        plates.append(plate)\r\n",
        "        drawPred(img, classIds[i], confidences[i], left,\r\n",
        "                 top, left + width, top + height)\r\n",
        "\r\n",
        "    return plates"
      ],
      "outputs": [],
      "metadata": {
        "id": "A6uUENcJK7Nn"
      }
    },
    {
      "cell_type": "code",
      "execution_count": null,
      "source": [
        "def detect_plate(img):\r\n",
        "    # Create a 4D blob from a img.\r\n",
        "    blob = cv2.dnn.blobFromImage(\r\n",
        "        img, 1/255, (inpWidth, inpHeight), [0, 0, 0], 1, crop=False)\r\n",
        "\r\n",
        "    # Sets the input to the network\r\n",
        "    net.setInput(blob)\r\n",
        "\r\n",
        "    # Runs the forward pass to get output of the output layers\r\n",
        "    outs = net.forward(getOutputsNames(net))\r\n",
        "\r\n",
        "    # Remove the bounding boxes with low confidence\r\n",
        "    plates = postprocess(img, outs)\r\n",
        "\r\n",
        "    # Put efficiency information. The function getPerfProfile returns the overall time for inference(t) and the timings for each of the layers(in layersTimes)\r\n",
        "    t, _ = net.getPerfProfile()\r\n",
        "    label = 'Inference time: %.2f ms' % (t * 1000.0 / cv2.getTickFrequency())\r\n",
        "    cv2.putText(img, label, (0, 15), cv2.FONT_HERSHEY_SIMPLEX, 0.5, (0, 0, 255))\r\n",
        "\r\n",
        "    return img , plates"
      ],
      "outputs": [],
      "metadata": {
        "id": "Enapnz-vK-g_"
      }
    },
    {
      "cell_type": "markdown",
      "source": [
        "### Reading The Image"
      ],
      "metadata": {
        "id": "ucg-25e8LI74"
      }
    },
    {
      "cell_type": "code",
      "execution_count": null,
      "source": [
        "image_path = 'Car.jpg'\r\n",
        "base_image = cv2.imread(image_path)"
      ],
      "outputs": [],
      "metadata": {
        "id": "oW1tjTMHLIPf"
      }
    },
    {
      "cell_type": "code",
      "execution_count": null,
      "source": [
        "# from google.colab import files\r\n",
        "# from io import BytesIO\r\n",
        "\r\n",
        "# uploaded = files.upload()\r\n",
        "# im = Image.open(BytesIO(list(uploaded.values())[0]))\r\n",
        "# open_cv_image = np.array(im)\r\n",
        "# base_image = open_cv_image[:, :, ::-1].copy() \r\n"
      ],
      "outputs": [],
      "metadata": {
        "id": "7duriwxcLRd4"
      }
    },
    {
      "cell_type": "code",
      "execution_count": null,
      "source": [
        "base_image = cv2.cvtColor(base_image, cv2.COLOR_BGR2RGB)  "
      ],
      "outputs": [],
      "metadata": {
        "id": "sR8Ft0uGY5nD"
      }
    },
    {
      "cell_type": "markdown",
      "source": [
        "## Show the image"
      ],
      "metadata": {
        "id": "2yMljWbtWy36"
      }
    },
    {
      "cell_type": "code",
      "execution_count": null,
      "source": [
        "    fig, ax = plt.subplots(figsize=(14, 5))\r\n",
        "    ax.imshow(base_image, interpolation='nearest')"
      ],
      "outputs": [],
      "metadata": {
        "id": "a5pGkargW26f",
        "colab": {
          "base_uri": "https://localhost:8080/",
          "height": 341
        },
        "outputId": "e34c6f2a-0d20-49bc-e9f5-c7ab279952ed"
      }
    },
    {
      "cell_type": "code",
      "execution_count": null,
      "source": [
        "img_detected, plates = detect_plate(base_image)\r\n",
        "fig, ax = plt.subplots(figsize=(14, 5))\r\n",
        "ax.imshow(img_detected, interpolation='nearest')\r\n",
        "\r\n",
        "if(len(plates)>0):\r\n",
        "    fig = plt.figure(figsize=(10., 12.))\r\n",
        "    grid = ImageGrid(fig, 111, nrows_ncols=(4, len(plates)), axes_pad=0.1)\r\n",
        "    for ax, im in zip(grid, plates):\r\n",
        "        ax.imshow(im)"
      ],
      "outputs": [],
      "metadata": {
        "colab": {
          "base_uri": "https://localhost:8080/",
          "height": 589
        },
        "id": "cKqTh6twYU77",
        "outputId": "ef6fafa4-f9b8-455f-ab0a-3a01e9e6edee"
      }
    },
    {
      "cell_type": "code",
      "execution_count": null,
      "source": [
        "if(len(plates)>0):\r\n",
        "    img = plates[0]\r\n",
        "\r\n",
        "    img = imutils.resize(img, width=1280)\r\n",
        "    gray = cv2.cvtColor(img, cv2.COLOR_BGR2GRAY)\r\n",
        "\r\n",
        "    fig, ax = plt.subplots(figsize=(14, 5))\r\n",
        "    ax.imshow(gray, interpolation='nearest')\r\n",
        "else:\r\n",
        "    print(\"Plate Not Found!\")"
      ],
      "outputs": [],
      "metadata": {
        "id": "_n_uNoWgGZ-_",
        "colab": {
          "base_uri": "https://localhost:8080/",
          "height": 228
        },
        "outputId": "e1db5769-78e4-437f-e63a-d9f1bc08cfc5"
      }
    },
    {
      "cell_type": "code",
      "execution_count": null,
      "source": [
        "\r\n",
        "gray = cv2.fastNlMeansDenoisingColored(img,None,15,15,7,21)\r\n",
        "\r\n",
        "gray =  cv2.cvtColor(gray,cv2.COLOR_BGR2GRAY)\r\n",
        "gray = cv2.bilateralFilter(gray, 13, 15, 15)\r\n",
        "kernel = np.ones((9,9),np.uint8)\r\n",
        "edges = cv2.dilate(gray,kernel,iterations = 1)\r\n",
        "kernel = np.ones((15,15),np.uint8)\r\n",
        "gray = cv2.erode(edges,kernel,iterations = 1)\r\n",
        "\r\n",
        "gray = cv2.medianBlur(gray,13)\r\n",
        "\r\n",
        "\r\n",
        "fig, ax = plt.subplots(figsize=(14, 5))\r\n",
        "ax.imshow(gray, interpolation='nearest')"
      ],
      "outputs": [],
      "metadata": {
        "id": "AUzx3N_xIg9u",
        "colab": {
          "base_uri": "https://localhost:8080/",
          "height": 246
        },
        "outputId": "30e4d8bf-da45-4957-aa22-957b6f7b96a8"
      }
    },
    {
      "cell_type": "code",
      "execution_count": null,
      "source": [
        "ret,thresh = cv2.threshold(gray, 0, 255,cv2.THRESH_OTSU|cv2.THRESH_BINARY_INV)\r\n",
        "fig, ax = plt.subplots(figsize=(14, 5))\r\n",
        "ax.imshow(thresh, interpolation='nearest')"
      ],
      "outputs": [],
      "metadata": {
        "id": "ni31iHkhI7ln",
        "colab": {
          "base_uri": "https://localhost:8080/",
          "height": 246
        },
        "outputId": "0b3d2149-67b4-43c1-b994-079320b33867"
      }
    },
    {
      "cell_type": "code",
      "execution_count": null,
      "source": [
        "rect_kernel = cv2.getStructuringElement(cv2.MORPH_RECT, (3, 3))\r\n",
        "dilation = cv2.dilate(thresh, rect_kernel, iterations = 1)\r\n",
        "fig, ax = plt.subplots(figsize=(14, 5))\r\n",
        "ax.imshow(dilation, interpolation='nearest')"
      ],
      "outputs": [],
      "metadata": {
        "id": "Pre-pqnGI-3A",
        "colab": {
          "base_uri": "https://localhost:8080/",
          "height": 246
        },
        "outputId": "6bd20d99-3e93-4aa3-a3e4-a6470b87914d"
      }
    },
    {
      "cell_type": "code",
      "execution_count": null,
      "source": [
        "reader = easyocr.Reader(['fa']) # need to run only once to load model into memory\r\n",
        "result = reader.readtext(dilation)\r\n",
        "result"
      ],
      "outputs": [],
      "metadata": {
        "id": "spKH2oj5F1rH"
      }
    }
  ]
}